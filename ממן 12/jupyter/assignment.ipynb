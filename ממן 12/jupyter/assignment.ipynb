{
 "cells": [
  {
   "cell_type": "markdown",
   "metadata": {},
   "source": [
    "## Question 1 - Gray Edge Detection"
   ]
  },
  {
   "cell_type": "code",
   "execution_count": null,
   "metadata": {},
   "outputs": [],
   "source": [
    "# ================= This is done because all code files are stored inside 'code', harms intellisense though :(\n",
    "#                   This is because we can't import a package from within jupyter(at least, I couldn't make it work)\n",
    "import sys\n",
    "sys.path.append(\"./code\")\n",
    "# =================\n",
    "\n",
    "import cv_utils\n",
    "from edge_detection import edge_detection\n",
    "import cv2\n",
    "\n",
    "OUTPUT_PATH = \"output_images/q1\"\n",
    "\n",
    "img = cv2.imread(\"input_images/Lenna.png\", cv2.IMREAD_GRAYSCALE)\n",
    "image_edges = edge_detection(img)\n",
    "\n",
    "cv_utils.display_images_notebook(titles=[\"Before\", \"After\"], images=[img, image_edges])\n",
    "\n",
    "output_file = f\"{OUTPUT_PATH}/edges.png\"\n",
    "cv_utils.save_image(image_edges, output_file)\n",
    "print(f\"Output image saved in {output_file}\")\n"
   ]
  },
  {
   "cell_type": "markdown",
   "metadata": {},
   "source": [
    "### Example results\n",
    "\n",
    "![blabla](example_images/q1/lenna_edges.png)"
   ]
  },
  {
   "cell_type": "markdown",
   "metadata": {},
   "source": [
    "### Explanation\n",
    "\n",
    "The filter provided,\n",
    "\\[\n",
    "\\begin{bmatrix}\n",
    "-1 & -2 & -1 \\\\\n",
    " 0 &  0 &  0 \\\\\n",
    " 1 &  2 &  1\n",
    "\\end{bmatrix}\n",
    "\\]\n",
    "Is a vertical edge detection filter. It detects changes in pixel intensity.\n",
    "\n",
    "So, how does it work?\n",
    "* Convolution: We slide the filter over the image pixel by pixel, evaluating the weighted sum of the surrounding 3x3 pixels.\n",
    "    * The values in the filter matrix determine the weight of each pixel surrounding, including, the current pixel.\n",
    "    * [A good demonstration](https://youtu.be/KuXjwB4LzSA?si=vzDYNE7SV8WN6ilp&t=654) made by 3Blue1Brown, explaining convolution in the context of edge detection.\n",
    "* When there's a change in vertical intensity in a local region, the weighted sum will be large, resulting in higher intensity edges in the output.\n",
    "* When a local region has no change in vertical intensity (a uniform region), the weighted sum will be zero/close to zero, resulting in lower intensity in the output.\n",
    "* Normalization: The result of the convolution might produce values that are negative, or exceeding 8bits(255). So we normalize the output image so every pixel's brightness will make sense- as an unsigned 8bit intensity value."
   ]
  }
 ],
 "metadata": {
  "kernelspec": {
   "display_name": "Python 3",
   "language": "python",
   "name": "python3"
  },
  "language_info": {
   "codemirror_mode": {
    "name": "ipython",
    "version": 3
   },
   "file_extension": ".py",
   "mimetype": "text/x-python",
   "name": "python",
   "nbconvert_exporter": "python",
   "pygments_lexer": "ipython3",
   "version": "3.11.1"
  }
 },
 "nbformat": 4,
 "nbformat_minor": 2
}
